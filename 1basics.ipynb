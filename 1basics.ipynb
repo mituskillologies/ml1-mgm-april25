{
 "cells": [
  {
   "cell_type": "code",
   "execution_count": 1,
   "id": "592c54f9-bf2c-4d2c-ad8c-e213f4074dc9",
   "metadata": {},
   "outputs": [
    {
     "name": "stdout",
     "output_type": "stream",
     "text": [
      "Hello World\n"
     ]
    }
   ],
   "source": [
    "print(\"Hello World\")"
   ]
  },
  {
   "cell_type": "code",
   "execution_count": 3,
   "id": "c3f4cc3d-b147-4923-a02e-9087674ecfb9",
   "metadata": {},
   "outputs": [],
   "source": [
    "a = 22"
   ]
  },
  {
   "cell_type": "code",
   "execution_count": 5,
   "id": "cb45b04e-1c0b-4476-b87d-17c297f3333b",
   "metadata": {},
   "outputs": [
    {
     "data": {
      "text/plain": [
       "int"
      ]
     },
     "execution_count": 5,
     "metadata": {},
     "output_type": "execute_result"
    }
   ],
   "source": [
    "type(a)"
   ]
  },
  {
   "cell_type": "code",
   "execution_count": 7,
   "id": "06aa98d0-60ca-4ddd-8e34-a9e572bec7fd",
   "metadata": {},
   "outputs": [],
   "source": [
    "rate_of_interest =  10"
   ]
  },
  {
   "cell_type": "code",
   "execution_count": 9,
   "id": "7a6ecdbb-103e-400c-8188-6de77d92c43a",
   "metadata": {},
   "outputs": [
    {
     "ename": "SyntaxError",
     "evalue": "invalid syntax (1954645049.py, line 1)",
     "output_type": "error",
     "traceback": [
      "\u001b[0;36m  Cell \u001b[0;32mIn[9], line 1\u001b[0;36m\u001b[0m\n\u001b[0;31m    pass = 12\u001b[0m\n\u001b[0m         ^\u001b[0m\n\u001b[0;31mSyntaxError\u001b[0m\u001b[0;31m:\u001b[0m invalid syntax\n"
     ]
    }
   ],
   "source": [
    "pass = 12"
   ]
  },
  {
   "cell_type": "code",
   "execution_count": 11,
   "id": "c9c02a70-00b1-4db1-9008-9c751b67cee1",
   "metadata": {},
   "outputs": [],
   "source": [
    "Pass = 12"
   ]
  },
  {
   "cell_type": "code",
   "execution_count": 13,
   "id": "39caf868-8245-46a8-84fb-8d2e1818fc82",
   "metadata": {},
   "outputs": [],
   "source": [
    "# float"
   ]
  },
  {
   "cell_type": "code",
   "execution_count": 15,
   "id": "97fd37fb-c0c4-46c1-9914-0c67f606e7f3",
   "metadata": {},
   "outputs": [],
   "source": [
    "a = 33.44"
   ]
  },
  {
   "cell_type": "code",
   "execution_count": 17,
   "id": "c5538c5c-90c0-48d6-a130-754b932a7f7c",
   "metadata": {},
   "outputs": [
    {
     "data": {
      "text/plain": [
       "float"
      ]
     },
     "execution_count": 17,
     "metadata": {},
     "output_type": "execute_result"
    }
   ],
   "source": [
    "type(a)"
   ]
  },
  {
   "cell_type": "code",
   "execution_count": 19,
   "id": "2d54c641-df2c-4353-8614-8a82c2292404",
   "metadata": {},
   "outputs": [],
   "source": [
    "e = 12e3"
   ]
  },
  {
   "cell_type": "code",
   "execution_count": 21,
   "id": "e41f435a-5e2e-4634-9c22-736c744c17a3",
   "metadata": {},
   "outputs": [
    {
     "data": {
      "text/plain": [
       "float"
      ]
     },
     "execution_count": 21,
     "metadata": {},
     "output_type": "execute_result"
    }
   ],
   "source": [
    "type(e)"
   ]
  },
  {
   "cell_type": "code",
   "execution_count": 23,
   "id": "c3efd401-349f-432b-bb2a-755ec4048c82",
   "metadata": {},
   "outputs": [
    {
     "data": {
      "text/plain": [
       "12000.0"
      ]
     },
     "execution_count": 23,
     "metadata": {},
     "output_type": "execute_result"
    }
   ],
   "source": [
    "e"
   ]
  },
  {
   "cell_type": "code",
   "execution_count": 25,
   "id": "60e20aa8-c568-478e-95f8-16dcc1c9f1b0",
   "metadata": {},
   "outputs": [
    {
     "data": {
      "text/plain": [
       "1000000.0"
      ]
     },
     "execution_count": 25,
     "metadata": {},
     "output_type": "execute_result"
    }
   ],
   "source": [
    "10e5"
   ]
  },
  {
   "cell_type": "code",
   "execution_count": 27,
   "id": "a8e80307-a334-49a7-bf10-62e8ced88151",
   "metadata": {},
   "outputs": [],
   "source": [
    "# string"
   ]
  },
  {
   "cell_type": "code",
   "execution_count": 29,
   "id": "0693fcd2-5528-4470-a38f-36b71f9ac36b",
   "metadata": {},
   "outputs": [],
   "source": [
    "name = \"Natasha\""
   ]
  },
  {
   "cell_type": "code",
   "execution_count": 31,
   "id": "f986473c-6b84-4d1c-8d8a-ffbf3879a04d",
   "metadata": {},
   "outputs": [
    {
     "data": {
      "text/plain": [
       "str"
      ]
     },
     "execution_count": 31,
     "metadata": {},
     "output_type": "execute_result"
    }
   ],
   "source": [
    "type(name)"
   ]
  },
  {
   "cell_type": "code",
   "execution_count": 33,
   "id": "6b197105-5089-49d1-ba53-d9ba032aeb43",
   "metadata": {},
   "outputs": [
    {
     "data": {
      "text/plain": [
       "'natasha'"
      ]
     },
     "execution_count": 33,
     "metadata": {},
     "output_type": "execute_result"
    }
   ],
   "source": [
    "name.lower()"
   ]
  },
  {
   "cell_type": "code",
   "execution_count": 35,
   "id": "0c48dafa-84c4-44ec-9b64-df597199fd37",
   "metadata": {},
   "outputs": [
    {
     "data": {
      "text/plain": [
       "False"
      ]
     },
     "execution_count": 35,
     "metadata": {},
     "output_type": "execute_result"
    }
   ],
   "source": [
    "name.islower()"
   ]
  },
  {
   "cell_type": "code",
   "execution_count": 37,
   "id": "d2c7bf93-6635-42db-afcc-7edf37847df9",
   "metadata": {},
   "outputs": [
    {
     "data": {
      "text/plain": [
       "False"
      ]
     },
     "execution_count": 37,
     "metadata": {},
     "output_type": "execute_result"
    }
   ],
   "source": [
    "name.isupper()"
   ]
  },
  {
   "cell_type": "code",
   "execution_count": 39,
   "id": "bcc7a769-ab30-4d9f-adb1-c6707709f481",
   "metadata": {},
   "outputs": [
    {
     "data": {
      "text/plain": [
       "True"
      ]
     },
     "execution_count": 39,
     "metadata": {},
     "output_type": "execute_result"
    }
   ],
   "source": [
    "name.istitle()"
   ]
  },
  {
   "cell_type": "code",
   "execution_count": 43,
   "id": "4b051de9-da8e-444f-91ff-95192c12c58f",
   "metadata": {},
   "outputs": [],
   "source": [
    "data1 = \"Aditya128\"\n",
    "data2 = \"Pune\"\n",
    "data3 = \"12345\""
   ]
  },
  {
   "cell_type": "code",
   "execution_count": 45,
   "id": "f88590d8-10fa-4228-bc5f-be3b2e5c7294",
   "metadata": {},
   "outputs": [
    {
     "data": {
      "text/plain": [
       "True"
      ]
     },
     "execution_count": 45,
     "metadata": {},
     "output_type": "execute_result"
    }
   ],
   "source": [
    "data2.isalpha()"
   ]
  },
  {
   "cell_type": "code",
   "execution_count": 47,
   "id": "0f6eb906-9cdc-4cee-8cce-0c4dbbb4862e",
   "metadata": {},
   "outputs": [
    {
     "data": {
      "text/plain": [
       "False"
      ]
     },
     "execution_count": 47,
     "metadata": {},
     "output_type": "execute_result"
    }
   ],
   "source": [
    "data3.isalpha()"
   ]
  },
  {
   "cell_type": "code",
   "execution_count": 49,
   "id": "162c9392-dedb-48fb-95a3-ede2676d39e9",
   "metadata": {},
   "outputs": [
    {
     "data": {
      "text/plain": [
       "False"
      ]
     },
     "execution_count": 49,
     "metadata": {},
     "output_type": "execute_result"
    }
   ],
   "source": [
    "data1.isalpha()"
   ]
  },
  {
   "cell_type": "code",
   "execution_count": 53,
   "id": "968db0ea-28cc-45e4-9546-e3890e763159",
   "metadata": {},
   "outputs": [
    {
     "data": {
      "text/plain": [
       "False"
      ]
     },
     "execution_count": 53,
     "metadata": {},
     "output_type": "execute_result"
    }
   ],
   "source": [
    "data2.isdigit()"
   ]
  },
  {
   "cell_type": "code",
   "execution_count": 55,
   "id": "59c5ca07-5e78-43ac-9b7d-9b4492ad2d16",
   "metadata": {},
   "outputs": [
    {
     "data": {
      "text/plain": [
       "True"
      ]
     },
     "execution_count": 55,
     "metadata": {},
     "output_type": "execute_result"
    }
   ],
   "source": [
    "data3.isdigit()"
   ]
  },
  {
   "cell_type": "code",
   "execution_count": 57,
   "id": "8737c25a-9970-43d8-b6cb-459143151e19",
   "metadata": {},
   "outputs": [
    {
     "data": {
      "text/plain": [
       "True"
      ]
     },
     "execution_count": 57,
     "metadata": {},
     "output_type": "execute_result"
    }
   ],
   "source": [
    "data3.isalnum()"
   ]
  },
  {
   "cell_type": "code",
   "execution_count": 59,
   "id": "1c12dd9c-61ae-4721-bfee-fd489c21eb40",
   "metadata": {},
   "outputs": [],
   "source": [
    "name = \"Ajit\"\n",
    "marks = 78"
   ]
  },
  {
   "cell_type": "code",
   "execution_count": 61,
   "id": "d4412be0-c7ca-42d0-b3ca-20353873b5d8",
   "metadata": {},
   "outputs": [],
   "source": [
    "# my name is ajit and marks are 78"
   ]
  },
  {
   "cell_type": "code",
   "execution_count": 67,
   "id": "bf26f5d0-3c0e-4259-8cd6-21f53dcf79a0",
   "metadata": {},
   "outputs": [
    {
     "name": "stdout",
     "output_type": "stream",
     "text": [
      "my name is Ajit and marks are 78\n"
     ]
    }
   ],
   "source": [
    "print(\"my name is\", name, \"and marks are\", marks)"
   ]
  },
  {
   "cell_type": "code",
   "execution_count": 69,
   "id": "842bf021-37d6-4de7-b09b-453b5f1800ed",
   "metadata": {},
   "outputs": [
    {
     "name": "stdout",
     "output_type": "stream",
     "text": [
      "my name is Ajit and marks are 78\n"
     ]
    }
   ],
   "source": [
    "print(\"my name is %s and marks are %i\" %(name, marks))"
   ]
  },
  {
   "cell_type": "code",
   "execution_count": 73,
   "id": "efaaf60d-be45-4ea2-8f4f-0e641f556ea1",
   "metadata": {},
   "outputs": [
    {
     "name": "stdout",
     "output_type": "stream",
     "text": [
      "my name is Ajit and marks are 78.00\n"
     ]
    }
   ],
   "source": [
    "print(\"my name is %s and marks are %.2f\" %(name, marks))"
   ]
  },
  {
   "cell_type": "code",
   "execution_count": 75,
   "id": "058b8d31-455c-4396-9930-0ef73f67bd76",
   "metadata": {},
   "outputs": [
    {
     "name": "stdout",
     "output_type": "stream",
     "text": [
      "my name is Ajit and marks are 78\n"
     ]
    }
   ],
   "source": [
    "print(f\"my name is {name} and marks are {marks}\")"
   ]
  },
  {
   "cell_type": "code",
   "execution_count": 77,
   "id": "928b67ff-91cf-4714-81d4-652947cb5f0f",
   "metadata": {},
   "outputs": [],
   "source": [
    "# operators"
   ]
  },
  {
   "cell_type": "code",
   "execution_count": 79,
   "id": "af25541a-c0d2-4999-9977-a26204de1cbf",
   "metadata": {},
   "outputs": [],
   "source": [
    "num1 = 20\n",
    "num2 = 6"
   ]
  },
  {
   "cell_type": "code",
   "execution_count": 81,
   "id": "db06bc29-3ac8-4ea4-9913-df6be141cbdf",
   "metadata": {},
   "outputs": [
    {
     "data": {
      "text/plain": [
       "120"
      ]
     },
     "execution_count": 81,
     "metadata": {},
     "output_type": "execute_result"
    }
   ],
   "source": [
    "num1 * num2"
   ]
  },
  {
   "cell_type": "code",
   "execution_count": 83,
   "id": "01265b3e-e019-4000-8167-f79d8f374e40",
   "metadata": {},
   "outputs": [
    {
     "data": {
      "text/plain": [
       "3.3333333333333335"
      ]
     },
     "execution_count": 83,
     "metadata": {},
     "output_type": "execute_result"
    }
   ],
   "source": [
    "num1/num2"
   ]
  },
  {
   "cell_type": "code",
   "execution_count": 85,
   "id": "73351774-cced-40cb-b43a-2edbfe2728b2",
   "metadata": {},
   "outputs": [
    {
     "data": {
      "text/plain": [
       "3"
      ]
     },
     "execution_count": 85,
     "metadata": {},
     "output_type": "execute_result"
    }
   ],
   "source": [
    "num1 // num2"
   ]
  },
  {
   "cell_type": "code",
   "execution_count": 87,
   "id": "834327a0-09d9-4bbc-97b6-98cc30354c67",
   "metadata": {},
   "outputs": [
    {
     "data": {
      "text/plain": [
       "2"
      ]
     },
     "execution_count": 87,
     "metadata": {},
     "output_type": "execute_result"
    }
   ],
   "source": [
    "num1 % num2"
   ]
  },
  {
   "cell_type": "code",
   "execution_count": 89,
   "id": "f728149e-d398-452f-a9ec-ed6ecfdb208c",
   "metadata": {},
   "outputs": [
    {
     "data": {
      "text/plain": [
       "64000000"
      ]
     },
     "execution_count": 89,
     "metadata": {},
     "output_type": "execute_result"
    }
   ],
   "source": [
    "num1 ** num2"
   ]
  },
  {
   "cell_type": "code",
   "execution_count": 91,
   "id": "45bf6bcc-d8d9-4d7b-81f0-c6c7edfc05d8",
   "metadata": {},
   "outputs": [],
   "source": [
    "# assignment oper"
   ]
  },
  {
   "cell_type": "code",
   "execution_count": 93,
   "id": "18dc1f5f-b156-44bb-965d-7bef75559644",
   "metadata": {},
   "outputs": [
    {
     "data": {
      "text/plain": [
       "20"
      ]
     },
     "execution_count": 93,
     "metadata": {},
     "output_type": "execute_result"
    }
   ],
   "source": [
    "num1"
   ]
  },
  {
   "cell_type": "code",
   "execution_count": 101,
   "id": "67e5cf68-19dd-43e4-b37a-c17967cb3c9b",
   "metadata": {},
   "outputs": [],
   "source": [
    "num1 += 5"
   ]
  },
  {
   "cell_type": "code",
   "execution_count": 103,
   "id": "ce80b2ba-6c09-4273-9413-7b7f8f41d1e5",
   "metadata": {},
   "outputs": [
    {
     "data": {
      "text/plain": [
       "25"
      ]
     },
     "execution_count": 103,
     "metadata": {},
     "output_type": "execute_result"
    }
   ],
   "source": [
    "num1"
   ]
  },
  {
   "cell_type": "code",
   "execution_count": 105,
   "id": "485a3522-e971-45bb-8452-a5c52caf9e92",
   "metadata": {},
   "outputs": [],
   "source": [
    "# logical"
   ]
  },
  {
   "cell_type": "code",
   "execution_count": 107,
   "id": "b6cecea8-0803-410a-80e3-c61a2df0341f",
   "metadata": {},
   "outputs": [
    {
     "data": {
      "text/plain": [
       "True"
      ]
     },
     "execution_count": 107,
     "metadata": {},
     "output_type": "execute_result"
    }
   ],
   "source": [
    "num1 > num2 and num1 > 1"
   ]
  },
  {
   "cell_type": "code",
   "execution_count": 109,
   "id": "4038d1cb-0648-4b35-907f-6b26f0500fc8",
   "metadata": {},
   "outputs": [
    {
     "data": {
      "text/plain": [
       "True"
      ]
     },
     "execution_count": 109,
     "metadata": {},
     "output_type": "execute_result"
    }
   ],
   "source": [
    "num1 > num2 or num1 > 100"
   ]
  },
  {
   "cell_type": "code",
   "execution_count": 111,
   "id": "14af27d0-e05a-43c6-9342-40c35e9e1fdd",
   "metadata": {},
   "outputs": [],
   "source": [
    "# type casting"
   ]
  },
  {
   "cell_type": "code",
   "execution_count": 115,
   "id": "8040702f-244f-4248-9d44-700c37b299a8",
   "metadata": {},
   "outputs": [],
   "source": [
    "num1 = 12\n",
    "num2 = 10.77\n",
    "num3 = \"45\""
   ]
  },
  {
   "cell_type": "code",
   "execution_count": 117,
   "id": "80119f1e-5e99-41a1-912e-cef873f95005",
   "metadata": {},
   "outputs": [
    {
     "data": {
      "text/plain": [
       "12.0"
      ]
     },
     "execution_count": 117,
     "metadata": {},
     "output_type": "execute_result"
    }
   ],
   "source": [
    "float(num1)"
   ]
  },
  {
   "cell_type": "code",
   "execution_count": 121,
   "id": "923f4f0f-db1b-4808-8c99-38d67087b44e",
   "metadata": {},
   "outputs": [
    {
     "data": {
      "text/plain": [
       "10"
      ]
     },
     "execution_count": 121,
     "metadata": {},
     "output_type": "execute_result"
    }
   ],
   "source": [
    "int(num2)"
   ]
  },
  {
   "cell_type": "code",
   "execution_count": 123,
   "id": "5f36e5e0-0b39-4c59-a7ba-f5b75e359690",
   "metadata": {},
   "outputs": [
    {
     "data": {
      "text/plain": [
       "45"
      ]
     },
     "execution_count": 123,
     "metadata": {},
     "output_type": "execute_result"
    }
   ],
   "source": [
    "int(num3)"
   ]
  },
  {
   "cell_type": "code",
   "execution_count": 125,
   "id": "ebb5da65-b698-4f22-bada-31ba8ba3e1ac",
   "metadata": {},
   "outputs": [],
   "source": [
    "num4 = \"45a\""
   ]
  },
  {
   "cell_type": "code",
   "execution_count": 127,
   "id": "260f7c0c-478e-47de-b7d8-2496d5b23158",
   "metadata": {},
   "outputs": [
    {
     "ename": "ValueError",
     "evalue": "invalid literal for int() with base 10: '45a'",
     "output_type": "error",
     "traceback": [
      "\u001b[0;31m---------------------------------------------------------------------------\u001b[0m",
      "\u001b[0;31mValueError\u001b[0m                                Traceback (most recent call last)",
      "Cell \u001b[0;32mIn[127], line 1\u001b[0m\n\u001b[0;32m----> 1\u001b[0m \u001b[38;5;28mint\u001b[39m(num4)\n",
      "\u001b[0;31mValueError\u001b[0m: invalid literal for int() with base 10: '45a'"
     ]
    }
   ],
   "source": [
    "int(num4)"
   ]
  },
  {
   "cell_type": "code",
   "execution_count": 131,
   "id": "4563fcce-136f-41d6-8dda-4e64d5a45784",
   "metadata": {},
   "outputs": [
    {
     "name": "stdin",
     "output_type": "stream",
     "text": [
      "enter the 1st number 10\n",
      "enter the 2nd number 20\n"
     ]
    },
    {
     "name": "stdout",
     "output_type": "stream",
     "text": [
      "Addition is  30\n"
     ]
    }
   ],
   "source": [
    "num1 = int(input(\"enter the 1st number\"))\n",
    "num2 = int(input(\"enter the 2nd number\"))\n",
    "\n",
    "res = num1 + num2\n",
    "print(\"Addition is \", res)"
   ]
  },
  {
   "cell_type": "code",
   "execution_count": null,
   "id": "fa24e3e0-82ed-45e1-a0bd-ffa42a9f39e7",
   "metadata": {},
   "outputs": [],
   "source": []
  }
 ],
 "metadata": {
  "kernelspec": {
   "display_name": "Python 3 (ipykernel)",
   "language": "python",
   "name": "python3"
  },
  "language_info": {
   "codemirror_mode": {
    "name": "ipython",
    "version": 3
   },
   "file_extension": ".py",
   "mimetype": "text/x-python",
   "name": "python",
   "nbconvert_exporter": "python",
   "pygments_lexer": "ipython3",
   "version": "3.12.4"
  }
 },
 "nbformat": 4,
 "nbformat_minor": 5
}
