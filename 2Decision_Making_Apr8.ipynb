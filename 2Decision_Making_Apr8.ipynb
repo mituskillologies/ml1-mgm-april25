{
 "cells": [
  {
   "cell_type": "code",
   "execution_count": 1,
   "id": "e9845a78-d168-4b96-bf14-ca6b7d8ffd59",
   "metadata": {},
   "outputs": [],
   "source": [
    "num = 5"
   ]
  },
  {
   "cell_type": "code",
   "execution_count": 3,
   "id": "c23352dc-adac-4476-b317-22c21306ffa5",
   "metadata": {},
   "outputs": [
    {
     "name": "stdout",
     "output_type": "stream",
     "text": [
      "ok\n"
     ]
    }
   ],
   "source": [
    "if num > 0:\n",
    "    print(\"ok\")"
   ]
  },
  {
   "cell_type": "code",
   "execution_count": 7,
   "id": "846e094b-9b6f-41c7-b20f-99c388a1c43c",
   "metadata": {},
   "outputs": [
    {
     "name": "stdout",
     "output_type": "stream",
     "text": [
      "not ok\n"
     ]
    }
   ],
   "source": [
    "if num > 100:\n",
    "    print(\"ok\")\n",
    "else:\n",
    "    print(\"not ok\")"
   ]
  },
  {
   "cell_type": "code",
   "execution_count": 9,
   "id": "7e24e4bf-13be-48bf-9671-ad99f2b256a3",
   "metadata": {},
   "outputs": [],
   "source": [
    "# write a program to check even or odd"
   ]
  },
  {
   "cell_type": "code",
   "execution_count": 13,
   "id": "1433ecde-558d-400f-b6c3-5e4433d2b554",
   "metadata": {},
   "outputs": [
    {
     "name": "stdin",
     "output_type": "stream",
     "text": [
      "Enter the number  4\n"
     ]
    },
    {
     "name": "stdout",
     "output_type": "stream",
     "text": [
      "even\n"
     ]
    }
   ],
   "source": [
    "num = int(input(\"Enter the number \"))\n",
    "\n",
    "if num % 2 == 0:\n",
    "    print(\"even\")\n",
    "else:\n",
    "    print(\"odd\")"
   ]
  },
  {
   "cell_type": "code",
   "execution_count": 21,
   "id": "d7bcfef7-491e-4dfa-b8f5-b2fd5f18a48d",
   "metadata": {},
   "outputs": [
    {
     "name": "stdin",
     "output_type": "stream",
     "text": [
      "Enter the number  0\n"
     ]
    },
    {
     "name": "stdout",
     "output_type": "stream",
     "text": [
      "zero\n"
     ]
    }
   ],
   "source": [
    "# check if the number is positive or negative\n",
    "\n",
    "num = int(input(\"Enter the number \"))\n",
    "\n",
    "if  num > 0:\n",
    "    print(\"positive\")\n",
    "elif num == 0:\n",
    "    print(\"zero\")\n",
    "else:\n",
    "    print(\"negative\")"
   ]
  },
  {
   "cell_type": "code",
   "execution_count": 23,
   "id": "58004d40-0d3c-4669-a545-cbaeb99ca4ac",
   "metadata": {},
   "outputs": [],
   "source": [
    "\"\"\"\n",
    "2020 -> leap\n",
    "2017 ->  not leap\n",
    "2000 -> leap\n",
    "1800 -> not leap\n",
    "\"\"\";"
   ]
  },
  {
   "cell_type": "code",
   "execution_count": 25,
   "id": "0b04582c-6ba0-4694-bbe0-ee394bd7b68f",
   "metadata": {},
   "outputs": [],
   "source": [
    "# write a program to check if the year is leap\n",
    "# no 'and' or 'or' allowed, use nested if only"
   ]
  },
  {
   "cell_type": "code",
   "execution_count": 33,
   "id": "1fd867dd-078d-417f-bd73-3893f75a1079",
   "metadata": {},
   "outputs": [
    {
     "name": "stdin",
     "output_type": "stream",
     "text": [
      "Enter the year 1800\n"
     ]
    },
    {
     "name": "stdout",
     "output_type": "stream",
     "text": [
      "Century but not leap\n"
     ]
    }
   ],
   "source": [
    "year = int(input(\"Enter the year\"))\n",
    "\n",
    "if year % 4 == 0:\n",
    "    if year % 100 == 0:\n",
    "        if year % 400 == 0:\n",
    "            print(\"Leap Century year\")\n",
    "        else:\n",
    "            print(\"Century but not leap\")\n",
    "    else:\n",
    "        print(\"leap year\")\n",
    "else:\n",
    "    print(\"not leap\")"
   ]
  },
  {
   "cell_type": "code",
   "execution_count": 35,
   "id": "2a62c01e-3ce8-4ee6-8892-449477b5318b",
   "metadata": {},
   "outputs": [],
   "source": [
    "# read the selling and purchase cost from user\n",
    "# check if profit or loss and how much"
   ]
  },
  {
   "cell_type": "code",
   "execution_count": 37,
   "id": "3e4a491e-40aa-4d24-8770-469e68474211",
   "metadata": {},
   "outputs": [
    {
     "name": "stdin",
     "output_type": "stream",
     "text": [
      "Enter the purchase cost 2000\n",
      "Enter the selling cost 3000\n"
     ]
    },
    {
     "name": "stdout",
     "output_type": "stream",
     "text": [
      "profit of  1000\n"
     ]
    }
   ],
   "source": [
    "purchase_cost = int(input(\"Enter the purchase cost\"))\n",
    "selling_cost = int(input(\"Enter the selling cost\"))\n",
    "\n",
    "if selling_cost > purchase_cost:\n",
    "    print(\"profit of \", selling_cost - purchase_cost)\n",
    "else:\n",
    "    print(\"loss of \", purchase_cost - selling_cost)"
   ]
  },
  {
   "cell_type": "code",
   "execution_count": 39,
   "id": "c7393fbf-e928-4a56-b94b-78dbdf8bf125",
   "metadata": {},
   "outputs": [],
   "source": [
    "# menu driven"
   ]
  },
  {
   "cell_type": "code",
   "execution_count": 45,
   "id": "4db2b2f2-69ac-4f7b-980a-464e7df21c8f",
   "metadata": {},
   "outputs": [
    {
     "name": "stdin",
     "output_type": "stream",
     "text": [
      "Enter the number  10\n"
     ]
    },
    {
     "name": "stdout",
     "output_type": "stream",
     "text": [
      "MENU\n",
      "1.square\n",
      "2.cube\n",
      "3.positive or negative\n"
     ]
    },
    {
     "name": "stdin",
     "output_type": "stream",
     "text": [
      "enter the choice 1\n"
     ]
    },
    {
     "name": "stdout",
     "output_type": "stream",
     "text": [
      "100\n"
     ]
    }
   ],
   "source": [
    "num = int(input(\"Enter the number \"))\n",
    "\n",
    "print(\"MENU\\n1.square\\n2.cube\\n3.positive or negative\")\n",
    "\n",
    "ch = int(input(\"enter the choice\"))\n",
    "\n",
    "if ch == 1:\n",
    "    print(num * num)\n",
    "elif ch == 2:\n",
    "    print(num ** 3)\n",
    "elif ch == 3:\n",
    "    if  num > 0:\n",
    "        print(\"positive\")\n",
    "    elif num == 0:\n",
    "        print(\"zero\")\n",
    "    else:\n",
    "        print(\"negative\")\n",
    "else:\n",
    "    print(\"Please visit the nearest eye checkup!!!!\")"
   ]
  },
  {
   "cell_type": "code",
   "execution_count": null,
   "id": "54d4552b-48f9-4616-8822-27026520206c",
   "metadata": {},
   "outputs": [],
   "source": []
  }
 ],
 "metadata": {
  "kernelspec": {
   "display_name": "Python 3 (ipykernel)",
   "language": "python",
   "name": "python3"
  },
  "language_info": {
   "codemirror_mode": {
    "name": "ipython",
    "version": 3
   },
   "file_extension": ".py",
   "mimetype": "text/x-python",
   "name": "python",
   "nbconvert_exporter": "python",
   "pygments_lexer": "ipython3",
   "version": "3.12.4"
  }
 },
 "nbformat": 4,
 "nbformat_minor": 5
}
