{
 "cells": [
  {
   "cell_type": "markdown",
   "id": "472bc5cf-0af1-4c36-827f-6c76715e0a22",
   "metadata": {},
   "source": [
    "### List"
   ]
  },
  {
   "cell_type": "code",
   "execution_count": 2,
   "id": "5a3fe4d7-63f7-4d37-a9c9-83eb3bfe6174",
   "metadata": {},
   "outputs": [],
   "source": [
    "l = [12, 45, 67, 23, 90]"
   ]
  },
  {
   "cell_type": "code",
   "execution_count": 4,
   "id": "cf05e3a6-a699-48aa-a107-0a3ff391caee",
   "metadata": {},
   "outputs": [
    {
     "data": {
      "text/plain": [
       "list"
      ]
     },
     "execution_count": 4,
     "metadata": {},
     "output_type": "execute_result"
    }
   ],
   "source": [
    "type(l)"
   ]
  },
  {
   "cell_type": "code",
   "execution_count": 8,
   "id": "461629a2-0078-4198-9211-71015c46b4c1",
   "metadata": {},
   "outputs": [
    {
     "data": {
      "text/plain": [
       "[12, 45, 44.23, True, 'Ajinkya', 12]"
      ]
     },
     "execution_count": 8,
     "metadata": {},
     "output_type": "execute_result"
    }
   ],
   "source": [
    "# hetero, duplicates are allowed\n",
    "l1 = [12, 45, 44.23, True, \"Ajinkya\", 12]\n",
    "l1"
   ]
  },
  {
   "cell_type": "code",
   "execution_count": 10,
   "id": "d8048a49-f0f1-4617-8dec-cf66d3e2e6d1",
   "metadata": {},
   "outputs": [
    {
     "data": {
      "text/plain": [
       "44.23"
      ]
     },
     "execution_count": 10,
     "metadata": {},
     "output_type": "execute_result"
    }
   ],
   "source": [
    "# ordered\n",
    "\n",
    "l1[2]"
   ]
  },
  {
   "cell_type": "code",
   "execution_count": 12,
   "id": "41ad7c3e-5096-4918-a42a-73ee87a6d258",
   "metadata": {},
   "outputs": [
    {
     "data": {
      "text/plain": [
       "'Ajinkya'"
      ]
     },
     "execution_count": 12,
     "metadata": {},
     "output_type": "execute_result"
    }
   ],
   "source": [
    "l1[-2]"
   ]
  },
  {
   "cell_type": "code",
   "execution_count": 14,
   "id": "a4d45cd4-327e-4d22-bcda-ef2eecaf0b6f",
   "metadata": {},
   "outputs": [],
   "source": [
    "l1[-2] = 100"
   ]
  },
  {
   "cell_type": "code",
   "execution_count": 18,
   "id": "827183ff-2d36-4356-85e8-46981892b76c",
   "metadata": {},
   "outputs": [
    {
     "data": {
      "text/plain": [
       "[12, 45, 44.23, True, 100, 12]"
      ]
     },
     "execution_count": 18,
     "metadata": {},
     "output_type": "execute_result"
    }
   ],
   "source": [
    "l1\n",
    "# mutable"
   ]
  },
  {
   "cell_type": "code",
   "execution_count": 20,
   "id": "496901f8-08a1-45c8-8932-feafd9bff596",
   "metadata": {},
   "outputs": [
    {
     "data": {
      "text/plain": [
       "[12, 45, 44.23, 10, 100, 12]"
      ]
     },
     "execution_count": 20,
     "metadata": {},
     "output_type": "execute_result"
    }
   ],
   "source": [
    "l1[-3] = 10\n",
    "l1"
   ]
  },
  {
   "cell_type": "code",
   "execution_count": 22,
   "id": "5e21783b-35d0-4ccd-9fc3-3d7c5bec84b1",
   "metadata": {},
   "outputs": [
    {
     "data": {
      "text/plain": [
       "[12, 45, 44.23, 10, 100, 12]"
      ]
     },
     "execution_count": 22,
     "metadata": {},
     "output_type": "execute_result"
    }
   ],
   "source": [
    "l1"
   ]
  },
  {
   "cell_type": "code",
   "execution_count": 24,
   "id": "513f3ada-95db-498b-b421-c7f6ae3afc07",
   "metadata": {},
   "outputs": [
    {
     "data": {
      "text/plain": [
       "[45, 44.23, 10]"
      ]
     },
     "execution_count": 24,
     "metadata": {},
     "output_type": "execute_result"
    }
   ],
   "source": [
    "l1[1:4]"
   ]
  },
  {
   "cell_type": "code",
   "execution_count": 26,
   "id": "1d2694df-34a7-4d62-aac9-110ae8c230a9",
   "metadata": {},
   "outputs": [
    {
     "data": {
      "text/plain": [
       "[12, 10, 13, 15, 100, 12]"
      ]
     },
     "execution_count": 26,
     "metadata": {},
     "output_type": "execute_result"
    }
   ],
   "source": [
    "l1[1:4] = [10, 13, 15]\n",
    "l1"
   ]
  },
  {
   "cell_type": "code",
   "execution_count": 28,
   "id": "488176b4-f089-4658-a24f-3b87d10f77c6",
   "metadata": {},
   "outputs": [
    {
     "data": {
      "text/plain": [
       "[12, 10, 13, 15, 100]"
      ]
     },
     "execution_count": 28,
     "metadata": {},
     "output_type": "execute_result"
    }
   ],
   "source": [
    "l1[:5]"
   ]
  },
  {
   "cell_type": "code",
   "execution_count": 30,
   "id": "3c0b6258-64f1-445f-895b-232c4220cb03",
   "metadata": {},
   "outputs": [
    {
     "data": {
      "text/plain": [
       "[13, 15, 100, 12]"
      ]
     },
     "execution_count": 30,
     "metadata": {},
     "output_type": "execute_result"
    }
   ],
   "source": [
    "l1[2:]"
   ]
  },
  {
   "cell_type": "code",
   "execution_count": 32,
   "id": "175067d9-cc44-43da-94ce-236be4318251",
   "metadata": {},
   "outputs": [
    {
     "data": {
      "text/plain": [
       "[12, 10, 13, 15, 100, 12]"
      ]
     },
     "execution_count": 32,
     "metadata": {},
     "output_type": "execute_result"
    }
   ],
   "source": [
    "l1"
   ]
  },
  {
   "cell_type": "code",
   "execution_count": 34,
   "id": "96163448-9fc3-4219-8093-f0b787569dde",
   "metadata": {},
   "outputs": [
    {
     "data": {
      "text/plain": [
       "[12, 13, 100]"
      ]
     },
     "execution_count": 34,
     "metadata": {},
     "output_type": "execute_result"
    }
   ],
   "source": [
    "l1[::2]"
   ]
  },
  {
   "cell_type": "code",
   "execution_count": 36,
   "id": "91bc206f-c0cc-49e3-bfa3-243a933617f4",
   "metadata": {},
   "outputs": [
    {
     "data": {
      "text/plain": [
       "[12, 100, 15, 13, 10, 12]"
      ]
     },
     "execution_count": 36,
     "metadata": {},
     "output_type": "execute_result"
    }
   ],
   "source": [
    "l1[::-1]"
   ]
  },
  {
   "cell_type": "code",
   "execution_count": 38,
   "id": "e96d3e26-59b4-4f63-8e23-f78afad2c455",
   "metadata": {},
   "outputs": [
    {
     "data": {
      "text/plain": [
       "[12, 10, 13, 15, 100, 12]"
      ]
     },
     "execution_count": 38,
     "metadata": {},
     "output_type": "execute_result"
    }
   ],
   "source": [
    "l1"
   ]
  },
  {
   "cell_type": "code",
   "execution_count": 40,
   "id": "4a43b2d1-e75e-4820-b9a2-556f003ba86d",
   "metadata": {},
   "outputs": [],
   "source": [
    "del l1[2]"
   ]
  },
  {
   "cell_type": "code",
   "execution_count": 42,
   "id": "c0ee9ee9-c2b5-431f-a8df-b8a567a15fce",
   "metadata": {},
   "outputs": [
    {
     "data": {
      "text/plain": [
       "[12, 10, 15, 100, 12]"
      ]
     },
     "execution_count": 42,
     "metadata": {},
     "output_type": "execute_result"
    }
   ],
   "source": [
    "l1"
   ]
  },
  {
   "cell_type": "code",
   "execution_count": 44,
   "id": "e7207a31-c513-4391-a509-0e5a8368db35",
   "metadata": {},
   "outputs": [],
   "source": [
    "# functions"
   ]
  },
  {
   "cell_type": "code",
   "execution_count": 46,
   "id": "e0438653-b365-4ba5-80cc-e34c2f4c535e",
   "metadata": {},
   "outputs": [
    {
     "data": {
      "text/plain": [
       "100"
      ]
     },
     "execution_count": 46,
     "metadata": {},
     "output_type": "execute_result"
    }
   ],
   "source": [
    "max(l1)"
   ]
  },
  {
   "cell_type": "code",
   "execution_count": 48,
   "id": "c8d9e17c-2d80-4314-b4b4-92ddb13fbb39",
   "metadata": {},
   "outputs": [
    {
     "data": {
      "text/plain": [
       "10"
      ]
     },
     "execution_count": 48,
     "metadata": {},
     "output_type": "execute_result"
    }
   ],
   "source": [
    "min(l1)"
   ]
  },
  {
   "cell_type": "code",
   "execution_count": 50,
   "id": "c80c436c-a3c5-4eb2-93aa-0fc35604fb34",
   "metadata": {},
   "outputs": [
    {
     "data": {
      "text/plain": [
       "[10, 12, 12, 15, 100]"
      ]
     },
     "execution_count": 50,
     "metadata": {},
     "output_type": "execute_result"
    }
   ],
   "source": [
    "sorted(l1)"
   ]
  },
  {
   "cell_type": "code",
   "execution_count": 52,
   "id": "e3300325-c94a-49c4-b3ff-2be8d4b48905",
   "metadata": {},
   "outputs": [
    {
     "data": {
      "text/plain": [
       "[100, 15, 12, 12, 10]"
      ]
     },
     "execution_count": 52,
     "metadata": {},
     "output_type": "execute_result"
    }
   ],
   "source": [
    "sorted(l1, reverse= True)"
   ]
  },
  {
   "cell_type": "code",
   "execution_count": 54,
   "id": "6b7b7758-e6b8-406c-9a02-15829a4877fe",
   "metadata": {},
   "outputs": [],
   "source": [
    "# methods"
   ]
  },
  {
   "cell_type": "code",
   "execution_count": 56,
   "id": "1fed6737-8ae3-4fb8-b318-6b609a8fb7cd",
   "metadata": {},
   "outputs": [
    {
     "data": {
      "text/plain": [
       "[12, 10, 15, 100, 12]"
      ]
     },
     "execution_count": 56,
     "metadata": {},
     "output_type": "execute_result"
    }
   ],
   "source": [
    "l1"
   ]
  },
  {
   "cell_type": "code",
   "execution_count": 58,
   "id": "8e8e9e43-3ea7-4f12-97c9-0852cc57380c",
   "metadata": {},
   "outputs": [],
   "source": [
    "l1.append(200)"
   ]
  },
  {
   "cell_type": "code",
   "execution_count": 60,
   "id": "fbe3c6c5-7c1e-4c94-a030-1b0cdc7f701f",
   "metadata": {},
   "outputs": [
    {
     "data": {
      "text/plain": [
       "[12, 10, 15, 100, 12, 200]"
      ]
     },
     "execution_count": 60,
     "metadata": {},
     "output_type": "execute_result"
    }
   ],
   "source": [
    "l1"
   ]
  },
  {
   "cell_type": "code",
   "execution_count": 62,
   "id": "9bae9f62-89fa-4e7b-ad7f-9900173de7bd",
   "metadata": {},
   "outputs": [],
   "source": [
    "# append and extend"
   ]
  },
  {
   "cell_type": "code",
   "execution_count": 64,
   "id": "d35ab188-b67a-4928-afc9-3a1a6032325f",
   "metadata": {},
   "outputs": [],
   "source": [
    "l2 = [1, 2, 3]\n",
    "l3 = [1, 2, 3]"
   ]
  },
  {
   "cell_type": "code",
   "execution_count": 66,
   "id": "4d12f00f-e810-4cfe-b1bb-88b41e01c02b",
   "metadata": {},
   "outputs": [],
   "source": [
    "l2.append([500, 1000])\n",
    "l3.extend([500, 1000])"
   ]
  },
  {
   "cell_type": "code",
   "execution_count": 68,
   "id": "8cb66258-acb5-4c78-8293-9e7382338cec",
   "metadata": {},
   "outputs": [
    {
     "data": {
      "text/plain": [
       "[1, 2, 3, [500, 1000]]"
      ]
     },
     "execution_count": 68,
     "metadata": {},
     "output_type": "execute_result"
    }
   ],
   "source": [
    "l2"
   ]
  },
  {
   "cell_type": "code",
   "execution_count": 70,
   "id": "c21655be-4670-42af-88fd-442f590820f0",
   "metadata": {},
   "outputs": [
    {
     "data": {
      "text/plain": [
       "[1, 2, 3, 500, 1000]"
      ]
     },
     "execution_count": 70,
     "metadata": {},
     "output_type": "execute_result"
    }
   ],
   "source": [
    "l3"
   ]
  },
  {
   "cell_type": "code",
   "execution_count": 76,
   "id": "882b2781-d92f-480f-bfed-e37bd93b8b9c",
   "metadata": {},
   "outputs": [],
   "source": [
    "l2[3][0] = 111"
   ]
  },
  {
   "cell_type": "code",
   "execution_count": 78,
   "id": "895dc82c-90ac-460b-8d56-826997f3ba22",
   "metadata": {},
   "outputs": [
    {
     "data": {
      "text/plain": [
       "[1, 2, 3, [111, 1000]]"
      ]
     },
     "execution_count": 78,
     "metadata": {},
     "output_type": "execute_result"
    }
   ],
   "source": [
    "l2"
   ]
  },
  {
   "cell_type": "code",
   "execution_count": 80,
   "id": "d06985fc-80d8-4f27-9c98-f37ffce2837f",
   "metadata": {},
   "outputs": [
    {
     "data": {
      "text/plain": [
       "[12, 10, 15, 100, 12, 200]"
      ]
     },
     "execution_count": 80,
     "metadata": {},
     "output_type": "execute_result"
    }
   ],
   "source": [
    "l1"
   ]
  },
  {
   "cell_type": "code",
   "execution_count": 82,
   "id": "de155df1-6ae7-4cb7-8d04-29e678e2c7b0",
   "metadata": {},
   "outputs": [
    {
     "data": {
      "text/plain": [
       "200"
      ]
     },
     "execution_count": 82,
     "metadata": {},
     "output_type": "execute_result"
    }
   ],
   "source": [
    "l1.pop()"
   ]
  },
  {
   "cell_type": "code",
   "execution_count": 84,
   "id": "6b41aca6-03f7-425c-882a-d6c7e460f6a7",
   "metadata": {},
   "outputs": [
    {
     "data": {
      "text/plain": [
       "[12, 10, 15, 100, 12]"
      ]
     },
     "execution_count": 84,
     "metadata": {},
     "output_type": "execute_result"
    }
   ],
   "source": [
    "l1"
   ]
  },
  {
   "cell_type": "code",
   "execution_count": 86,
   "id": "19b432a0-bf5b-4b47-a39b-6da47c1b2952",
   "metadata": {},
   "outputs": [],
   "source": [
    "l1.remove(10)"
   ]
  },
  {
   "cell_type": "code",
   "execution_count": 88,
   "id": "905e52c1-54fc-48cc-a621-d531832aac86",
   "metadata": {},
   "outputs": [
    {
     "data": {
      "text/plain": [
       "[12, 15, 100, 12]"
      ]
     },
     "execution_count": 88,
     "metadata": {},
     "output_type": "execute_result"
    }
   ],
   "source": [
    "l1"
   ]
  },
  {
   "cell_type": "code",
   "execution_count": 90,
   "id": "c1e35869-2c39-4813-b548-88c54502e2bd",
   "metadata": {},
   "outputs": [],
   "source": [
    "l1.insert(1, 200)"
   ]
  },
  {
   "cell_type": "code",
   "execution_count": 92,
   "id": "406f0b5e-1882-459f-9667-37777ee56654",
   "metadata": {},
   "outputs": [
    {
     "data": {
      "text/plain": [
       "[12, 200, 15, 100, 12]"
      ]
     },
     "execution_count": 92,
     "metadata": {},
     "output_type": "execute_result"
    }
   ],
   "source": [
    "l1"
   ]
  },
  {
   "cell_type": "code",
   "execution_count": 94,
   "id": "5bad26ab-5865-4d4b-acda-717aedf34f9a",
   "metadata": {},
   "outputs": [
    {
     "data": {
      "text/plain": [
       "1"
      ]
     },
     "execution_count": 94,
     "metadata": {},
     "output_type": "execute_result"
    }
   ],
   "source": [
    "l1.index(200)"
   ]
  },
  {
   "cell_type": "code",
   "execution_count": 96,
   "id": "b2db20d1-368e-4737-bd8f-818c7ce2aa8f",
   "metadata": {},
   "outputs": [
    {
     "data": {
      "text/plain": [
       "True"
      ]
     },
     "execution_count": 96,
     "metadata": {},
     "output_type": "execute_result"
    }
   ],
   "source": [
    "100 in l1"
   ]
  },
  {
   "cell_type": "code",
   "execution_count": 98,
   "id": "67179615-5795-46a0-8ddc-456d24ca4725",
   "metadata": {},
   "outputs": [
    {
     "data": {
      "text/plain": [
       "['__add__',\n",
       " '__class__',\n",
       " '__class_getitem__',\n",
       " '__contains__',\n",
       " '__delattr__',\n",
       " '__delitem__',\n",
       " '__dir__',\n",
       " '__doc__',\n",
       " '__eq__',\n",
       " '__format__',\n",
       " '__ge__',\n",
       " '__getattribute__',\n",
       " '__getitem__',\n",
       " '__getstate__',\n",
       " '__gt__',\n",
       " '__hash__',\n",
       " '__iadd__',\n",
       " '__imul__',\n",
       " '__init__',\n",
       " '__init_subclass__',\n",
       " '__iter__',\n",
       " '__le__',\n",
       " '__len__',\n",
       " '__lt__',\n",
       " '__mul__',\n",
       " '__ne__',\n",
       " '__new__',\n",
       " '__reduce__',\n",
       " '__reduce_ex__',\n",
       " '__repr__',\n",
       " '__reversed__',\n",
       " '__rmul__',\n",
       " '__setattr__',\n",
       " '__setitem__',\n",
       " '__sizeof__',\n",
       " '__str__',\n",
       " '__subclasshook__',\n",
       " 'append',\n",
       " 'clear',\n",
       " 'copy',\n",
       " 'count',\n",
       " 'extend',\n",
       " 'index',\n",
       " 'insert',\n",
       " 'pop',\n",
       " 'remove',\n",
       " 'reverse',\n",
       " 'sort']"
      ]
     },
     "execution_count": 98,
     "metadata": {},
     "output_type": "execute_result"
    }
   ],
   "source": [
    "dir(l1)"
   ]
  },
  {
   "cell_type": "code",
   "execution_count": 100,
   "id": "cdb6ff44-8c43-45e6-89f6-395824137e58",
   "metadata": {},
   "outputs": [
    {
     "name": "stdout",
     "output_type": "stream",
     "text": [
      "Help on built-in function pop:\n",
      "\n",
      "pop(index=-1, /) method of builtins.list instance\n",
      "    Remove and return item at index (default last).\n",
      "\n",
      "    Raises IndexError if list is empty or index is out of range.\n",
      "\n"
     ]
    }
   ],
   "source": [
    "help(l1.pop)"
   ]
  },
  {
   "cell_type": "code",
   "execution_count": 102,
   "id": "cde4a20f-4254-4aef-b401-218a263a3a9d",
   "metadata": {},
   "outputs": [],
   "source": [
    "l = [12, 45, 67, 78, 45, 100]"
   ]
  },
  {
   "cell_type": "code",
   "execution_count": 104,
   "id": "992d7608-096e-4984-ac9c-11348b87bff0",
   "metadata": {},
   "outputs": [],
   "source": [
    "# print the index and the element (can use for loop)"
   ]
  },
  {
   "cell_type": "code",
   "execution_count": 120,
   "id": "adac4df9-fb67-4c44-9504-9514e37c406d",
   "metadata": {},
   "outputs": [
    {
     "name": "stdout",
     "output_type": "stream",
     "text": [
      "0 -> 12\n",
      "1 -> 45\n",
      "2 -> 67\n",
      "3 -> 78\n",
      "1 -> 45\n",
      "5 -> 100\n"
     ]
    }
   ],
   "source": [
    "for i in l:\n",
    "    print(f\"{l.index(i)} -> {i}\")"
   ]
  },
  {
   "cell_type": "code",
   "execution_count": 130,
   "id": "1046e52f-04ce-44b9-a051-4464cd159bbb",
   "metadata": {},
   "outputs": [
    {
     "name": "stdout",
     "output_type": "stream",
     "text": [
      "0 -> 12\n",
      "1 -> 45\n",
      "2 -> 67\n",
      "3 -> 78\n",
      "4 -> 45\n",
      "5 -> 100\n"
     ]
    }
   ],
   "source": [
    "for ind, val in enumerate(l, start = 0):\n",
    "    print(f\"{ind} -> {val}\")"
   ]
  },
  {
   "cell_type": "code",
   "execution_count": 126,
   "id": "26794881-6dfc-4c18-ac05-eb63cacc3842",
   "metadata": {},
   "outputs": [
    {
     "data": {
      "text/plain": [
       "[(0, 12), (1, 45), (2, 67), (3, 78), (4, 45), (5, 100)]"
      ]
     },
     "execution_count": 126,
     "metadata": {},
     "output_type": "execute_result"
    }
   ],
   "source": [
    "list(enumerate(l))"
   ]
  },
  {
   "cell_type": "markdown",
   "id": "90fb6ee4-f4dc-42ee-a968-ad2003403031",
   "metadata": {},
   "source": [
    "### tuple"
   ]
  },
  {
   "cell_type": "code",
   "execution_count": 133,
   "id": "992ab46f-1ad2-4501-a27f-b1cbc3b0e3d5",
   "metadata": {},
   "outputs": [],
   "source": [
    "t = (12, 34, 56, 34, 78)"
   ]
  },
  {
   "cell_type": "code",
   "execution_count": 137,
   "id": "44aa080a-d955-4f84-b147-b13ec0591f9a",
   "metadata": {},
   "outputs": [
    {
     "data": {
      "text/plain": [
       "(12, 34, 56, 34, 78)"
      ]
     },
     "execution_count": 137,
     "metadata": {},
     "output_type": "execute_result"
    }
   ],
   "source": [
    "t\n",
    "# duplicates are allowed"
   ]
  },
  {
   "cell_type": "code",
   "execution_count": 139,
   "id": "0a4edfd9-42ac-4c84-8781-6fe4e9422c85",
   "metadata": {},
   "outputs": [
    {
     "data": {
      "text/plain": [
       "tuple"
      ]
     },
     "execution_count": 139,
     "metadata": {},
     "output_type": "execute_result"
    }
   ],
   "source": [
    "type(t)"
   ]
  },
  {
   "cell_type": "code",
   "execution_count": 141,
   "id": "de22083b-fe81-414b-aed5-20db6648ce61",
   "metadata": {},
   "outputs": [],
   "source": [
    "t1 = (23, 44.44, True)"
   ]
  },
  {
   "cell_type": "code",
   "execution_count": 145,
   "id": "90a8fee3-23ce-4efa-bfdc-473e164f2498",
   "metadata": {},
   "outputs": [
    {
     "data": {
      "text/plain": [
       "(23, 44.44, True)"
      ]
     },
     "execution_count": 145,
     "metadata": {},
     "output_type": "execute_result"
    }
   ],
   "source": [
    "t1 # hetero"
   ]
  },
  {
   "cell_type": "code",
   "execution_count": 147,
   "id": "f2821428-f899-4199-b70a-0bb5f464fb8a",
   "metadata": {},
   "outputs": [
    {
     "data": {
      "text/plain": [
       "44.44"
      ]
     },
     "execution_count": 147,
     "metadata": {},
     "output_type": "execute_result"
    }
   ],
   "source": [
    "t1[1]"
   ]
  },
  {
   "cell_type": "code",
   "execution_count": 149,
   "id": "5a29d0f0-8bc4-4682-993a-d8a941fe1dd6",
   "metadata": {},
   "outputs": [
    {
     "ename": "TypeError",
     "evalue": "'tuple' object does not support item assignment",
     "output_type": "error",
     "traceback": [
      "\u001b[0;31m---------------------------------------------------------------------------\u001b[0m",
      "\u001b[0;31mTypeError\u001b[0m                                 Traceback (most recent call last)",
      "Cell \u001b[0;32mIn[149], line 1\u001b[0m\n\u001b[0;32m----> 1\u001b[0m t1[\u001b[38;5;241m1\u001b[39m] \u001b[38;5;241m=\u001b[39m \u001b[38;5;241m100\u001b[39m\n",
      "\u001b[0;31mTypeError\u001b[0m: 'tuple' object does not support item assignment"
     ]
    }
   ],
   "source": [
    "t1[1] = 100  # immutable"
   ]
  },
  {
   "cell_type": "code",
   "execution_count": 151,
   "id": "bce75e61-a09b-4139-85de-1ae30ea51b40",
   "metadata": {},
   "outputs": [
    {
     "data": {
      "text/plain": [
       "[23, 44.44, True]"
      ]
     },
     "execution_count": 151,
     "metadata": {},
     "output_type": "execute_result"
    }
   ],
   "source": [
    "list(t1)"
   ]
  },
  {
   "cell_type": "markdown",
   "id": "a8ee6681-9f41-4ecf-a889-7ca35b6105d7",
   "metadata": {},
   "source": [
    "#### Set"
   ]
  },
  {
   "cell_type": "code",
   "execution_count": 154,
   "id": "beceb0ae-4fee-4ef3-b02a-f56e42e7654d",
   "metadata": {},
   "outputs": [],
   "source": [
    "s = {12, 23, 45, 12, 89}"
   ]
  },
  {
   "cell_type": "code",
   "execution_count": 156,
   "id": "7f6039ce-af7f-4f6e-a347-b4150eeac047",
   "metadata": {},
   "outputs": [
    {
     "data": {
      "text/plain": [
       "{12, 23, 45, 89}"
      ]
     },
     "execution_count": 156,
     "metadata": {},
     "output_type": "execute_result"
    }
   ],
   "source": [
    "s # duplicates not allowed"
   ]
  },
  {
   "cell_type": "code",
   "execution_count": 158,
   "id": "9f563e16-ec68-4fe3-9a03-948b8f335b84",
   "metadata": {},
   "outputs": [
    {
     "ename": "TypeError",
     "evalue": "'set' object is not subscriptable",
     "output_type": "error",
     "traceback": [
      "\u001b[0;31m---------------------------------------------------------------------------\u001b[0m",
      "\u001b[0;31mTypeError\u001b[0m                                 Traceback (most recent call last)",
      "Cell \u001b[0;32mIn[158], line 1\u001b[0m\n\u001b[0;32m----> 1\u001b[0m s[\u001b[38;5;241m1\u001b[39m]\n",
      "\u001b[0;31mTypeError\u001b[0m: 'set' object is not subscriptable"
     ]
    }
   ],
   "source": [
    "s[1]  # unordered"
   ]
  },
  {
   "cell_type": "code",
   "execution_count": 160,
   "id": "c2b23306-aa97-4362-8966-0388e7eaf9b5",
   "metadata": {},
   "outputs": [],
   "source": [
    "s.add(344)"
   ]
  },
  {
   "cell_type": "code",
   "execution_count": 162,
   "id": "4936a7ae-71cc-4a67-897a-4b8d58afcc70",
   "metadata": {},
   "outputs": [
    {
     "data": {
      "text/plain": [
       "{12, 23, 45, 89, 344}"
      ]
     },
     "execution_count": 162,
     "metadata": {},
     "output_type": "execute_result"
    }
   ],
   "source": [
    "s # mutable"
   ]
  },
  {
   "cell_type": "code",
   "execution_count": 166,
   "id": "86acd7b3-4010-4410-ba91-4477fc22c7d0",
   "metadata": {},
   "outputs": [
    {
     "data": {
      "text/plain": [
       "frozenset({12, 23, 45, 89, 344})"
      ]
     },
     "execution_count": 166,
     "metadata": {},
     "output_type": "execute_result"
    }
   ],
   "source": [
    "frozenset(s)"
   ]
  },
  {
   "cell_type": "code",
   "execution_count": 168,
   "id": "a50c0265-72d6-4597-b676-1d7d01e4e32b",
   "metadata": {},
   "outputs": [],
   "source": [
    "s1 = {23, 45, 67, 89}\n",
    "s2 = {23, 45, 85, 100}"
   ]
  },
  {
   "cell_type": "code",
   "execution_count": 170,
   "id": "6378ba20-7e10-48c5-8cd5-a96ac4c14ce2",
   "metadata": {},
   "outputs": [
    {
     "data": {
      "text/plain": [
       "{23, 45, 67, 85, 89, 100}"
      ]
     },
     "execution_count": 170,
     "metadata": {},
     "output_type": "execute_result"
    }
   ],
   "source": [
    "s1.union(s2)"
   ]
  },
  {
   "cell_type": "markdown",
   "id": "99c3fdcf-b5ff-4dfb-9615-80a9fa06e8e6",
   "metadata": {},
   "source": [
    "### Dictionary"
   ]
  },
  {
   "cell_type": "code",
   "execution_count": 173,
   "id": "39721bbc-a540-487b-8ea8-e33295365438",
   "metadata": {},
   "outputs": [],
   "source": [
    "dict = {1: 56, 2:56, 3: 76, 6: 98}"
   ]
  },
  {
   "cell_type": "code",
   "execution_count": 175,
   "id": "216e3d0b-94ac-48d0-a744-e194b5ad5ee7",
   "metadata": {},
   "outputs": [
    {
     "data": {
      "text/plain": [
       "{1: 56, 2: 56, 3: 76, 6: 98}"
      ]
     },
     "execution_count": 175,
     "metadata": {},
     "output_type": "execute_result"
    }
   ],
   "source": [
    "dict"
   ]
  },
  {
   "cell_type": "code",
   "execution_count": 177,
   "id": "5ebf4fcf-e53f-4753-a50c-b9ff4f6f9361",
   "metadata": {},
   "outputs": [],
   "source": [
    "# values can be duplicate but not keys"
   ]
  },
  {
   "cell_type": "code",
   "execution_count": 179,
   "id": "a8746b5f-4756-48e4-b1d5-357c231da30d",
   "metadata": {},
   "outputs": [
    {
     "data": {
      "text/plain": [
       "98"
      ]
     },
     "execution_count": 179,
     "metadata": {},
     "output_type": "execute_result"
    }
   ],
   "source": [
    "dict[6]"
   ]
  },
  {
   "cell_type": "code",
   "execution_count": 181,
   "id": "f38526fb-b4eb-40ac-8f62-f37f15999dc9",
   "metadata": {},
   "outputs": [],
   "source": [
    "dict[6] = [12, 45]"
   ]
  },
  {
   "cell_type": "code",
   "execution_count": 183,
   "id": "4aba3852-2a47-4922-b977-ffb5ae22c6e4",
   "metadata": {},
   "outputs": [
    {
     "data": {
      "text/plain": [
       "{1: 56, 2: 56, 3: 76, 6: [12, 45]}"
      ]
     },
     "execution_count": 183,
     "metadata": {},
     "output_type": "execute_result"
    }
   ],
   "source": [
    "dict"
   ]
  },
  {
   "cell_type": "code",
   "execution_count": 185,
   "id": "9c9dffa1-2d8d-462d-81da-08fcf8ec59e1",
   "metadata": {},
   "outputs": [],
   "source": [
    "dict[100] = 67"
   ]
  },
  {
   "cell_type": "code",
   "execution_count": 187,
   "id": "587b14e4-9c0f-4463-b5e9-c85bd8bac80c",
   "metadata": {},
   "outputs": [
    {
     "data": {
      "text/plain": [
       "{1: 56, 2: 56, 3: 76, 6: [12, 45], 100: 67}"
      ]
     },
     "execution_count": 187,
     "metadata": {},
     "output_type": "execute_result"
    }
   ],
   "source": [
    "dict"
   ]
  },
  {
   "cell_type": "code",
   "execution_count": 191,
   "id": "73e28dc5-c2e9-48c2-8321-843203483d87",
   "metadata": {},
   "outputs": [
    {
     "data": {
      "text/plain": [
       "dict_keys([1, 2, 3, 6, 100])"
      ]
     },
     "execution_count": 191,
     "metadata": {},
     "output_type": "execute_result"
    }
   ],
   "source": [
    "dict.keys()"
   ]
  },
  {
   "cell_type": "code",
   "execution_count": 193,
   "id": "2aa3ac83-8fd1-49dd-9196-9328b8c4cad1",
   "metadata": {},
   "outputs": [
    {
     "data": {
      "text/plain": [
       "dict_values([56, 56, 76, [12, 45], 67])"
      ]
     },
     "execution_count": 193,
     "metadata": {},
     "output_type": "execute_result"
    }
   ],
   "source": [
    "dict.values()"
   ]
  },
  {
   "cell_type": "code",
   "execution_count": 195,
   "id": "20201193-bf41-4a26-9df2-afb43d2a4e3e",
   "metadata": {},
   "outputs": [],
   "source": [
    "# list compr"
   ]
  },
  {
   "cell_type": "code",
   "execution_count": 197,
   "id": "6bae63ec-2a4d-4fd8-8a41-36fbe3c41a58",
   "metadata": {},
   "outputs": [],
   "source": [
    "l = [23, 34, 56, 7, 1]"
   ]
  },
  {
   "cell_type": "code",
   "execution_count": 199,
   "id": "359a9f67-3e94-442e-a280-3ae02cd96e8b",
   "metadata": {},
   "outputs": [
    {
     "name": "stdout",
     "output_type": "stream",
     "text": [
      "529\n",
      "1156\n",
      "3136\n",
      "49\n",
      "1\n"
     ]
    }
   ],
   "source": [
    "for i in l:\n",
    "    print(i**2)"
   ]
  },
  {
   "cell_type": "code",
   "execution_count": 201,
   "id": "5d23a8e7-97c2-49de-947b-a0d9a47945e3",
   "metadata": {},
   "outputs": [
    {
     "data": {
      "text/plain": [
       "[529, 1156, 3136, 49, 1]"
      ]
     },
     "execution_count": 201,
     "metadata": {},
     "output_type": "execute_result"
    }
   ],
   "source": [
    "l1 = [i**2 for i in l]\n",
    "l1"
   ]
  },
  {
   "cell_type": "code",
   "execution_count": null,
   "id": "0634ca97-5f89-4320-8160-339d045450bd",
   "metadata": {},
   "outputs": [],
   "source": []
  }
 ],
 "metadata": {
  "kernelspec": {
   "display_name": "Python 3 (ipykernel)",
   "language": "python",
   "name": "python3"
  },
  "language_info": {
   "codemirror_mode": {
    "name": "ipython",
    "version": 3
   },
   "file_extension": ".py",
   "mimetype": "text/x-python",
   "name": "python",
   "nbconvert_exporter": "python",
   "pygments_lexer": "ipython3",
   "version": "3.12.4"
  }
 },
 "nbformat": 4,
 "nbformat_minor": 5
}
