{
 "cells": [
  {
   "cell_type": "code",
   "execution_count": 2,
   "id": "a0d2b9db-9b52-4c94-9ab2-08f64319a20c",
   "metadata": {},
   "outputs": [],
   "source": [
    "import numpy as np"
   ]
  },
  {
   "cell_type": "code",
   "execution_count": 4,
   "id": "404528c5-c090-4f32-8a0d-83731a1e0afd",
   "metadata": {},
   "outputs": [],
   "source": [
    "a = np.array([12, 34, 56, 78, 100])"
   ]
  },
  {
   "cell_type": "code",
   "execution_count": 8,
   "id": "8be4f685-3ec0-423e-bec5-36cc1c34316a",
   "metadata": {},
   "outputs": [
    {
     "name": "stdout",
     "output_type": "stream",
     "text": [
      "[ 12  34  56  78 100]\n"
     ]
    }
   ],
   "source": [
    "print(a)"
   ]
  },
  {
   "cell_type": "code",
   "execution_count": 10,
   "id": "b4d5f1a1-2f48-4d36-b06a-fe39fdddc257",
   "metadata": {},
   "outputs": [
    {
     "data": {
      "text/plain": [
       "array([ 12,  34,  56,  78, 100])"
      ]
     },
     "execution_count": 10,
     "metadata": {},
     "output_type": "execute_result"
    }
   ],
   "source": [
    "a"
   ]
  },
  {
   "cell_type": "code",
   "execution_count": 12,
   "id": "7bb58ddf-6eae-45ce-8383-c18d9a3cb4e8",
   "metadata": {},
   "outputs": [
    {
     "data": {
      "text/plain": [
       "1"
      ]
     },
     "execution_count": 12,
     "metadata": {},
     "output_type": "execute_result"
    }
   ],
   "source": [
    "a.ndim"
   ]
  },
  {
   "cell_type": "code",
   "execution_count": 14,
   "id": "51ad0efc-5dfe-4617-8044-ea1a4a5c0e41",
   "metadata": {},
   "outputs": [
    {
     "data": {
      "text/plain": [
       "(5,)"
      ]
     },
     "execution_count": 14,
     "metadata": {},
     "output_type": "execute_result"
    }
   ],
   "source": [
    "a.shape"
   ]
  },
  {
   "cell_type": "code",
   "execution_count": 16,
   "id": "c3db6462-1308-4b24-b0e5-81260603c3d3",
   "metadata": {},
   "outputs": [],
   "source": [
    "a1 = np.array([12, 34, True, 33.12, \"Geet\"])"
   ]
  },
  {
   "cell_type": "code",
   "execution_count": 18,
   "id": "e534cbbf-de1a-47c5-b25c-de7c4b2c9f1f",
   "metadata": {},
   "outputs": [
    {
     "data": {
      "text/plain": [
       "array(['12', '34', 'True', '33.12', 'Geet'], dtype='<U32')"
      ]
     },
     "execution_count": 18,
     "metadata": {},
     "output_type": "execute_result"
    }
   ],
   "source": [
    "a1"
   ]
  },
  {
   "cell_type": "code",
   "execution_count": 20,
   "id": "968d1a3a-b578-46e4-a429-aae10ff0e590",
   "metadata": {},
   "outputs": [],
   "source": [
    "a2 = np.array([12, 34, 55.21, 34])"
   ]
  },
  {
   "cell_type": "code",
   "execution_count": 22,
   "id": "54ef0b87-b5bc-443e-b7e8-5f9126f61932",
   "metadata": {},
   "outputs": [
    {
     "data": {
      "text/plain": [
       "dtype('float64')"
      ]
     },
     "execution_count": 22,
     "metadata": {},
     "output_type": "execute_result"
    }
   ],
   "source": [
    "a2.dtype"
   ]
  },
  {
   "cell_type": "code",
   "execution_count": 24,
   "id": "fbd4e3c4-c781-489e-9c79-d54424207f71",
   "metadata": {},
   "outputs": [
    {
     "data": {
      "text/plain": [
       "34.0"
      ]
     },
     "execution_count": 24,
     "metadata": {},
     "output_type": "execute_result"
    }
   ],
   "source": [
    "a2[1]"
   ]
  },
  {
   "cell_type": "code",
   "execution_count": 26,
   "id": "1fc3fce9-4953-445e-8edf-f6e5cf2fe737",
   "metadata": {},
   "outputs": [
    {
     "data": {
      "text/plain": [
       "numpy.ndarray"
      ]
     },
     "execution_count": 26,
     "metadata": {},
     "output_type": "execute_result"
    }
   ],
   "source": [
    "type(a)"
   ]
  },
  {
   "cell_type": "code",
   "execution_count": 28,
   "id": "6fe13b27-4460-42c7-85fa-0e285ad1a1d9",
   "metadata": {},
   "outputs": [],
   "source": [
    "# speed between list and array"
   ]
  },
  {
   "cell_type": "code",
   "execution_count": 30,
   "id": "9329eebd-66d0-4716-80a4-c875d6b80281",
   "metadata": {},
   "outputs": [],
   "source": [
    "values = 1000000\n",
    "\n",
    "list1 = list(range(values))\n",
    "arr1 = np.array(list1)"
   ]
  },
  {
   "cell_type": "code",
   "execution_count": 34,
   "id": "49577a2b-108f-4aa1-82ef-d21c52af9c7e",
   "metadata": {},
   "outputs": [],
   "source": [
    "list1;"
   ]
  },
  {
   "cell_type": "code",
   "execution_count": 36,
   "id": "f42e4c09-47da-4caf-86d9-81ff74cfefe0",
   "metadata": {},
   "outputs": [],
   "source": [
    "import time"
   ]
  },
  {
   "cell_type": "code",
   "execution_count": 38,
   "id": "f88d4c2b-cfbf-4ae2-a696-726feef44425",
   "metadata": {},
   "outputs": [
    {
     "data": {
      "text/plain": [
       "1744258130.3818924"
      ]
     },
     "execution_count": 38,
     "metadata": {},
     "output_type": "execute_result"
    }
   ],
   "source": [
    "time.time()"
   ]
  },
  {
   "cell_type": "code",
   "execution_count": 44,
   "id": "d2e33662-11d1-4ae9-ad4f-7dddcac3cadf",
   "metadata": {},
   "outputs": [
    {
     "name": "stdout",
     "output_type": "stream",
     "text": [
      "time taken by list => 0.027994871139526367\n"
     ]
    }
   ],
   "source": [
    "# speed of list\n",
    "\n",
    "start_time = time.time()\n",
    "newl = [i * 2 for i in list1]\n",
    "print(f\"time taken by list => {time.time() - start_time}\")"
   ]
  },
  {
   "cell_type": "code",
   "execution_count": 46,
   "id": "a3272938-5013-4032-8bf9-9a1fb8695a91",
   "metadata": {},
   "outputs": [
    {
     "name": "stdout",
     "output_type": "stream",
     "text": [
      "time taken by array => 0.003196239471435547\n"
     ]
    }
   ],
   "source": [
    "start_time = time.time()\n",
    "newarr = arr1 * 2\n",
    "print(f\"time taken by array => {time.time() - start_time}\")"
   ]
  },
  {
   "cell_type": "code",
   "execution_count": 48,
   "id": "5ff84ae0-1252-497a-99c7-1451322d7705",
   "metadata": {},
   "outputs": [
    {
     "data": {
      "text/plain": [
       "8.758690138743846"
      ]
     },
     "execution_count": 48,
     "metadata": {},
     "output_type": "execute_result"
    }
   ],
   "source": [
    "0.027994871139526367/0.003196239471435547"
   ]
  },
  {
   "cell_type": "code",
   "execution_count": 50,
   "id": "841ff093-2880-4dd6-8ca9-38897ef0ac7a",
   "metadata": {},
   "outputs": [],
   "source": [
    "# arange"
   ]
  },
  {
   "cell_type": "code",
   "execution_count": 52,
   "id": "f282ea5f-129b-477d-9c5c-533c7bf8062f",
   "metadata": {},
   "outputs": [
    {
     "data": {
      "text/plain": [
       "array([0, 1, 2, 3, 4, 5, 6, 7, 8, 9])"
      ]
     },
     "execution_count": 52,
     "metadata": {},
     "output_type": "execute_result"
    }
   ],
   "source": [
    "np.arange(10)"
   ]
  },
  {
   "cell_type": "code",
   "execution_count": 56,
   "id": "f3a18da2-9ea9-448d-b923-30dd5ec7364f",
   "metadata": {},
   "outputs": [
    {
     "data": {
      "text/plain": [
       "array([ 5,  6,  7,  8,  9, 10, 11, 12, 13, 14, 15, 16, 17, 18, 19, 20])"
      ]
     },
     "execution_count": 56,
     "metadata": {},
     "output_type": "execute_result"
    }
   ],
   "source": [
    "np.arange(5, 21)"
   ]
  },
  {
   "cell_type": "code",
   "execution_count": 58,
   "id": "c6a63f2e-2e97-4180-8de5-b50d31736e74",
   "metadata": {},
   "outputs": [
    {
     "data": {
      "text/plain": [
       "array([-5. , -4.5, -4. , -3.5, -3. , -2.5, -2. , -1.5, -1. , -0.5,  0. ,\n",
       "        0.5,  1. ,  1.5,  2. ,  2.5,  3. ,  3.5,  4. ,  4.5])"
      ]
     },
     "execution_count": 58,
     "metadata": {},
     "output_type": "execute_result"
    }
   ],
   "source": [
    "np.arange(-5, 5, 0.5)"
   ]
  },
  {
   "cell_type": "code",
   "execution_count": 60,
   "id": "7a2a50ec-446a-4dd9-b00c-7ecbe049cefd",
   "metadata": {},
   "outputs": [],
   "source": [
    "# 2d arrays"
   ]
  },
  {
   "cell_type": "code",
   "execution_count": 62,
   "id": "0cac1534-af85-4738-9829-084f9ec50ce1",
   "metadata": {},
   "outputs": [],
   "source": [
    "arr = np.array([[1, 2, 3], [4, 5, 3], [7, 8, 2], [6, 3, 9]])"
   ]
  },
  {
   "cell_type": "code",
   "execution_count": 64,
   "id": "b67d4633-21ba-4d70-bd35-40850af48380",
   "metadata": {},
   "outputs": [
    {
     "data": {
      "text/plain": [
       "array([[1, 2, 3],\n",
       "       [4, 5, 3],\n",
       "       [7, 8, 2],\n",
       "       [6, 3, 9]])"
      ]
     },
     "execution_count": 64,
     "metadata": {},
     "output_type": "execute_result"
    }
   ],
   "source": [
    "arr"
   ]
  },
  {
   "cell_type": "code",
   "execution_count": 66,
   "id": "778d3830-5273-4d1b-b899-b93e71f34c9c",
   "metadata": {},
   "outputs": [
    {
     "data": {
      "text/plain": [
       "(4, 3)"
      ]
     },
     "execution_count": 66,
     "metadata": {},
     "output_type": "execute_result"
    }
   ],
   "source": [
    "arr.shape"
   ]
  },
  {
   "cell_type": "code",
   "execution_count": 68,
   "id": "8872d2a4-fd15-4f92-ba72-c674ba2f07a1",
   "metadata": {},
   "outputs": [
    {
     "data": {
      "text/plain": [
       "12"
      ]
     },
     "execution_count": 68,
     "metadata": {},
     "output_type": "execute_result"
    }
   ],
   "source": [
    "arr.size"
   ]
  },
  {
   "cell_type": "code",
   "execution_count": 70,
   "id": "62ec94d4-727f-426c-bb4b-fcef04e7c34a",
   "metadata": {},
   "outputs": [
    {
     "data": {
      "text/plain": [
       "2"
      ]
     },
     "execution_count": 70,
     "metadata": {},
     "output_type": "execute_result"
    }
   ],
   "source": [
    "arr.ndim"
   ]
  },
  {
   "cell_type": "code",
   "execution_count": 74,
   "id": "3005500e-3cc3-41f3-bfca-096af4b63b26",
   "metadata": {},
   "outputs": [
    {
     "data": {
      "text/plain": [
       "array([1, 2, 3, 4, 5, 3, 7, 8, 2, 6, 3, 9])"
      ]
     },
     "execution_count": 74,
     "metadata": {},
     "output_type": "execute_result"
    }
   ],
   "source": [
    "arr.flatten()"
   ]
  },
  {
   "cell_type": "code",
   "execution_count": 76,
   "id": "ecb87de8-9968-49b7-af20-1ecbf186bd59",
   "metadata": {},
   "outputs": [
    {
     "data": {
      "text/plain": [
       "array([[1, 2, 3],\n",
       "       [4, 5, 3],\n",
       "       [7, 8, 2],\n",
       "       [6, 3, 9]])"
      ]
     },
     "execution_count": 76,
     "metadata": {},
     "output_type": "execute_result"
    }
   ],
   "source": [
    "arr"
   ]
  },
  {
   "cell_type": "code",
   "execution_count": 78,
   "id": "f1ef9967-0663-41aa-96fe-13bd07078a98",
   "metadata": {},
   "outputs": [
    {
     "data": {
      "text/plain": [
       "array([[1, 2, 3, 4],\n",
       "       [5, 3, 7, 8],\n",
       "       [2, 6, 3, 9]])"
      ]
     },
     "execution_count": 78,
     "metadata": {},
     "output_type": "execute_result"
    }
   ],
   "source": [
    "arr.reshape(3, 4)"
   ]
  },
  {
   "cell_type": "code",
   "execution_count": 80,
   "id": "aad6e836-df95-4927-83ea-6c64f16ad8b4",
   "metadata": {},
   "outputs": [
    {
     "data": {
      "text/plain": [
       "array([[1, 2],\n",
       "       [3, 4],\n",
       "       [5, 3],\n",
       "       [7, 8],\n",
       "       [2, 6],\n",
       "       [3, 9]])"
      ]
     },
     "execution_count": 80,
     "metadata": {},
     "output_type": "execute_result"
    }
   ],
   "source": [
    "arr.reshape(6, 2)"
   ]
  },
  {
   "cell_type": "code",
   "execution_count": 82,
   "id": "20407459-689c-4b99-ae4d-52578f988ebd",
   "metadata": {},
   "outputs": [
    {
     "data": {
      "text/plain": [
       "array([[[1, 2],\n",
       "        [3, 4]],\n",
       "\n",
       "       [[5, 3],\n",
       "        [7, 8]],\n",
       "\n",
       "       [[2, 6],\n",
       "        [3, 9]]])"
      ]
     },
     "execution_count": 82,
     "metadata": {},
     "output_type": "execute_result"
    }
   ],
   "source": [
    "arr.reshape(3,2,2)"
   ]
  },
  {
   "cell_type": "code",
   "execution_count": 84,
   "id": "87eb7074-4c6f-431a-9048-d49a3b90110b",
   "metadata": {},
   "outputs": [
    {
     "data": {
      "text/plain": [
       "3"
      ]
     },
     "execution_count": 84,
     "metadata": {},
     "output_type": "execute_result"
    }
   ],
   "source": [
    "arr.reshape(3,2,2).ndim"
   ]
  },
  {
   "cell_type": "code",
   "execution_count": 86,
   "id": "760ab040-0885-4dcf-beb8-4d9f68c527c7",
   "metadata": {},
   "outputs": [
    {
     "data": {
      "text/plain": [
       "array([[1, 2],\n",
       "       [3, 4],\n",
       "       [5, 3],\n",
       "       [7, 8],\n",
       "       [2, 6],\n",
       "       [3, 9]])"
      ]
     },
     "execution_count": 86,
     "metadata": {},
     "output_type": "execute_result"
    }
   ],
   "source": [
    "arr.reshape(6, -1)"
   ]
  },
  {
   "cell_type": "code",
   "execution_count": 88,
   "id": "db4d89ef-b062-4974-9720-b38377e25568",
   "metadata": {},
   "outputs": [
    {
     "data": {
      "text/plain": [
       "array([[[1],\n",
       "        [2],\n",
       "        [3]],\n",
       "\n",
       "       [[4],\n",
       "        [5],\n",
       "        [3]],\n",
       "\n",
       "       [[7],\n",
       "        [8],\n",
       "        [2]],\n",
       "\n",
       "       [[6],\n",
       "        [3],\n",
       "        [9]]])"
      ]
     },
     "execution_count": 88,
     "metadata": {},
     "output_type": "execute_result"
    }
   ],
   "source": [
    "arr.reshape(4, 3, -1)"
   ]
  },
  {
   "cell_type": "code",
   "execution_count": 92,
   "id": "d39d66ce-4640-41f3-9acc-f5893980e5a5",
   "metadata": {},
   "outputs": [],
   "source": [
    "arr1 = np.array([[1, 2, 3], [4, 2, 5], [6, 9, 3]])"
   ]
  },
  {
   "cell_type": "code",
   "execution_count": 94,
   "id": "ad1a4732-bebf-4d29-bfef-ba8e21aa2259",
   "metadata": {},
   "outputs": [
    {
     "data": {
      "text/plain": [
       "array([[1, 2, 3],\n",
       "       [4, 2, 5],\n",
       "       [6, 9, 3]])"
      ]
     },
     "execution_count": 94,
     "metadata": {},
     "output_type": "execute_result"
    }
   ],
   "source": [
    "arr1"
   ]
  },
  {
   "cell_type": "code",
   "execution_count": 96,
   "id": "10e02733-13b1-4f43-bf32-8d0e281c6872",
   "metadata": {},
   "outputs": [
    {
     "data": {
      "text/plain": [
       "array([[-0.56521739,  0.30434783,  0.05797101],\n",
       "       [ 0.26086957, -0.2173913 ,  0.10144928],\n",
       "       [ 0.34782609,  0.04347826, -0.08695652]])"
      ]
     },
     "execution_count": 96,
     "metadata": {},
     "output_type": "execute_result"
    }
   ],
   "source": [
    "np.linalg.inv(arr1)"
   ]
  },
  {
   "cell_type": "code",
   "execution_count": 98,
   "id": "4b814243-ccbe-4771-a050-ada551569eb8",
   "metadata": {},
   "outputs": [
    {
     "data": {
      "text/plain": [
       "68.99999999999996"
      ]
     },
     "execution_count": 98,
     "metadata": {},
     "output_type": "execute_result"
    }
   ],
   "source": [
    "np.linalg.det(arr1)"
   ]
  },
  {
   "cell_type": "code",
   "execution_count": 100,
   "id": "76dfd7f9-68b8-4c05-adf7-de352d3a7b44",
   "metadata": {},
   "outputs": [
    {
     "data": {
      "text/plain": [
       "EigResult(eigenvalues=array([11.65562749, -1.38675741, -4.26887008]), eigenvectors=array([[ 0.32048827,  0.83297228, -0.29196665],\n",
       "       [ 0.53688866, -0.3441243 , -0.47556003],\n",
       "       [ 0.78040876, -0.43328472,  0.82981813]]))"
      ]
     },
     "execution_count": 100,
     "metadata": {},
     "output_type": "execute_result"
    }
   ],
   "source": [
    "np.linalg.eig(arr1)"
   ]
  },
  {
   "cell_type": "code",
   "execution_count": 102,
   "id": "d435592f-2c05-42ce-b251-2bc35a3e777b",
   "metadata": {},
   "outputs": [],
   "source": [
    "arr2 = np.array([[1, 5, 3], [12, 1, 5], [10, 9, 3]])"
   ]
  },
  {
   "cell_type": "code",
   "execution_count": 104,
   "id": "1031efb3-a56b-43ee-9930-193c9f09e856",
   "metadata": {},
   "outputs": [
    {
     "data": {
      "text/plain": [
       "array([[ 55,  34,  22],\n",
       "       [ 78,  67,  37],\n",
       "       [144,  66,  72]])"
      ]
     },
     "execution_count": 104,
     "metadata": {},
     "output_type": "execute_result"
    }
   ],
   "source": [
    "arr1 @ arr2"
   ]
  },
  {
   "cell_type": "code",
   "execution_count": 106,
   "id": "40573cb2-b2d6-4f5f-a15f-4aa9618c2d83",
   "metadata": {},
   "outputs": [
    {
     "data": {
      "text/plain": [
       "array([[1, 2, 3],\n",
       "       [4, 5, 3],\n",
       "       [7, 8, 2],\n",
       "       [6, 3, 9]])"
      ]
     },
     "execution_count": 106,
     "metadata": {},
     "output_type": "execute_result"
    }
   ],
   "source": [
    "arr"
   ]
  },
  {
   "cell_type": "code",
   "execution_count": null,
   "id": "5e5987c2-7e75-46eb-bd8f-8e0f9ba8e20b",
   "metadata": {},
   "outputs": [],
   "source": []
  }
 ],
 "metadata": {
  "kernelspec": {
   "display_name": "Python 3 (ipykernel)",
   "language": "python",
   "name": "python3"
  },
  "language_info": {
   "codemirror_mode": {
    "name": "ipython",
    "version": 3
   },
   "file_extension": ".py",
   "mimetype": "text/x-python",
   "name": "python",
   "nbconvert_exporter": "python",
   "pygments_lexer": "ipython3",
   "version": "3.12.4"
  }
 },
 "nbformat": 4,
 "nbformat_minor": 5
}
