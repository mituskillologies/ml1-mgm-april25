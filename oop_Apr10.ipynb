{
 "cells": [
  {
   "cell_type": "code",
   "execution_count": 1,
   "id": "23057e71-e2f5-4c0f-880d-499aa7cda10c",
   "metadata": {},
   "outputs": [],
   "source": [
    "class Employee:\n",
    "    pass"
   ]
  },
  {
   "cell_type": "code",
   "execution_count": 3,
   "id": "2f5369c8-d913-4310-bebc-db32887304c0",
   "metadata": {},
   "outputs": [],
   "source": [
    "emp1 = Employee()"
   ]
  },
  {
   "cell_type": "code",
   "execution_count": 5,
   "id": "7253e7ec-04c8-45a7-9ba8-526136c53fb0",
   "metadata": {},
   "outputs": [],
   "source": [
    "emp2 = Employee()  # creating the instance/object"
   ]
  },
  {
   "cell_type": "code",
   "execution_count": 7,
   "id": "63b3c10b-ab4a-4c4b-b810-6cc44a83c7d3",
   "metadata": {},
   "outputs": [
    {
     "name": "stdout",
     "output_type": "stream",
     "text": [
      "<__main__.Employee object at 0x7ad1b369a0c0>\n",
      "<__main__.Employee object at 0x7ad1a951cef0>\n"
     ]
    }
   ],
   "source": [
    "print(emp1)\n",
    "print(emp2)"
   ]
  },
  {
   "cell_type": "code",
   "execution_count": 9,
   "id": "bb5bf92a-9e79-45ce-b787-2cc354bf1ae5",
   "metadata": {},
   "outputs": [],
   "source": [
    "emp1.first = \"Shruti\"   # instance variables\n",
    "emp1.last = \"Patel\"\n",
    "emp1.salary = 53000"
   ]
  },
  {
   "cell_type": "code",
   "execution_count": 11,
   "id": "1ee20b74-1f8a-402c-8978-2d16c93da6be",
   "metadata": {},
   "outputs": [],
   "source": [
    "emp2.first = \"Rohit\"\n",
    "emp2.last = \"Patil\"\n",
    "emp2.salary = 54000"
   ]
  },
  {
   "cell_type": "code",
   "execution_count": 13,
   "id": "168efb45-654f-4d79-8d4f-dccbc051f3aa",
   "metadata": {},
   "outputs": [
    {
     "name": "stdout",
     "output_type": "stream",
     "text": [
      "53000\n"
     ]
    }
   ],
   "source": [
    "print(emp1.salary)"
   ]
  },
  {
   "cell_type": "code",
   "execution_count": 23,
   "id": "de6341c2-b89a-4eaa-9551-b759c13dc90e",
   "metadata": {},
   "outputs": [],
   "source": [
    "class Employee:\n",
    "\n",
    "    def __init__(self, first, last, salary):\n",
    "        self.first = first\n",
    "        self.last = last\n",
    "        self.salary = salary\n",
    "\n",
    "    def show(self):\n",
    "        print(f\"{self.first} -> {self.salary}\")"
   ]
  },
  {
   "cell_type": "code",
   "execution_count": 25,
   "id": "cc2ea522-2996-45c5-81f1-67b42a259235",
   "metadata": {},
   "outputs": [],
   "source": [
    "emp1 = Employee(\"Shruti\", \"Patel\", 53000)"
   ]
  },
  {
   "cell_type": "code",
   "execution_count": 27,
   "id": "63ce40c3-74f1-4484-83d9-524f9ecec9a1",
   "metadata": {},
   "outputs": [
    {
     "data": {
      "text/plain": [
       "'Patel'"
      ]
     },
     "execution_count": 27,
     "metadata": {},
     "output_type": "execute_result"
    }
   ],
   "source": [
    "emp1.last"
   ]
  },
  {
   "cell_type": "code",
   "execution_count": 29,
   "id": "47acdb0d-a45e-461a-844d-31a2b81dfcbc",
   "metadata": {},
   "outputs": [],
   "source": [
    "emp2 = Employee(\"Rohit\", \"Patil\", 54000)"
   ]
  },
  {
   "cell_type": "code",
   "execution_count": 31,
   "id": "eecf7a02-d913-46ca-8f82-2523584f1b83",
   "metadata": {},
   "outputs": [
    {
     "name": "stdout",
     "output_type": "stream",
     "text": [
      "Shruti -> 53000\n"
     ]
    }
   ],
   "source": [
    "emp1.show()"
   ]
  },
  {
   "cell_type": "code",
   "execution_count": null,
   "id": "55e7673f-5c40-4342-9eff-b7969d4166f1",
   "metadata": {},
   "outputs": [],
   "source": []
  }
 ],
 "metadata": {
  "kernelspec": {
   "display_name": "Python 3 (ipykernel)",
   "language": "python",
   "name": "python3"
  },
  "language_info": {
   "codemirror_mode": {
    "name": "ipython",
    "version": 3
   },
   "file_extension": ".py",
   "mimetype": "text/x-python",
   "name": "python",
   "nbconvert_exporter": "python",
   "pygments_lexer": "ipython3",
   "version": "3.12.4"
  }
 },
 "nbformat": 4,
 "nbformat_minor": 5
}
